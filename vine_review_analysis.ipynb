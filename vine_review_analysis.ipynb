{
  "nbformat": 4,
  "nbformat_minor": 0,
  "metadata": {
    "colab": {
      "name": "vine_review_analysis.ipynb",
      "provenance": [],
      "collapsed_sections": []
    },
    "kernelspec": {
      "name": "python3",
      "display_name": "Python 3"
    },
    "language_info": {
      "name": "python"
    }
  },
  "cells": [
    {
      "cell_type": "code",
      "execution_count": 1,
      "metadata": {
        "colab": {
          "base_uri": "https://localhost:8080/"
        },
        "id": "yN5c3rT3sa14",
        "outputId": "bbaa332a-09a5-4bda-c19b-ba9bc73a3123"
      },
      "outputs": [
        {
          "output_type": "stream",
          "name": "stdout",
          "text": [
            "\r0% [Working]\r            \rGet:1 http://security.ubuntu.com/ubuntu bionic-security InRelease [88.7 kB]\n",
            "\r0% [Connecting to archive.ubuntu.com (185.125.190.36)] [1 InRelease 0 B/88.7 kB\r0% [Connecting to archive.ubuntu.com (185.125.190.36)] [Connected to cloud.r-pr\r                                                                               \rGet:2 https://cloud.r-project.org/bin/linux/ubuntu bionic-cran40/ InRelease [3,626 B]\n",
            "\r0% [Connecting to archive.ubuntu.com (185.125.190.36)] [Connecting to ppa.launc\r0% [1 InRelease gpgv 88.7 kB] [Connecting to archive.ubuntu.com (185.125.190.36\r                                                                               \rIgn:3 https://developer.download.nvidia.com/compute/cuda/repos/ubuntu1804/x86_64  InRelease\n",
            "\r0% [1 InRelease gpgv 88.7 kB] [Waiting for headers] [Waiting for headers] [Wait\r                                                                               \rGet:4 http://ppa.launchpad.net/c2d4u.team/c2d4u4.0+/ubuntu bionic InRelease [15.9 kB]\n",
            "\r0% [1 InRelease gpgv 88.7 kB] [Waiting for headers] [4 InRelease 2,572 B/15.9 k\r                                                                               \rHit:5 http://archive.ubuntu.com/ubuntu bionic InRelease\n",
            "\r0% [1 InRelease gpgv 88.7 kB] [Waiting for headers] [4 InRelease 2,572 B/15.9 k\r                                                                               \rIgn:6 https://developer.download.nvidia.com/compute/machine-learning/repos/ubuntu1804/x86_64  InRelease\n",
            "\r0% [1 InRelease gpgv 88.7 kB] [Waiting for headers] [4 InRelease 14.2 kB/15.9 k\r0% [1 InRelease gpgv 88.7 kB] [Waiting for headers] [Connecting to ppa.launchpa\r                                                                               \rGet:7 http://archive.ubuntu.com/ubuntu bionic-updates InRelease [88.7 kB]\n",
            "\r                                                                               \rGet:8 https://developer.download.nvidia.com/compute/cuda/repos/ubuntu1804/x86_64  Release [696 B]\n",
            "\r0% [1 InRelease gpgv 88.7 kB] [7 InRelease 0 B/88.7 kB 0%] [Connecting to ppa.l\r0% [1 InRelease gpgv 88.7 kB] [7 InRelease 0 B/88.7 kB 0%] [Connecting to ppa.l\r                                                                               \rHit:9 https://developer.download.nvidia.com/compute/machine-learning/repos/ubuntu1804/x86_64  Release\n",
            "Get:10 https://developer.download.nvidia.com/compute/cuda/repos/ubuntu1804/x86_64  Release.gpg [836 B]\n",
            "Hit:11 http://ppa.launchpad.net/cran/libgit2/ubuntu bionic InRelease\n",
            "Get:12 http://security.ubuntu.com/ubuntu bionic-security/restricted amd64 Packages [884 kB]\n",
            "Get:13 http://archive.ubuntu.com/ubuntu bionic-backports InRelease [74.6 kB]\n",
            "Get:14 http://security.ubuntu.com/ubuntu bionic-security/main amd64 Packages [2,693 kB]\n",
            "Get:15 http://ppa.launchpad.net/deadsnakes/ppa/ubuntu bionic InRelease [15.9 kB]\n",
            "Get:16 http://security.ubuntu.com/ubuntu bionic-security/universe amd64 Packages [1,489 kB]\n",
            "Get:17 http://ppa.launchpad.net/graphics-drivers/ppa/ubuntu bionic InRelease [21.3 kB]\n",
            "Get:18 https://cloud.r-project.org/bin/linux/ubuntu bionic-cran40/ Packages [82.3 kB]\n",
            "Get:19 http://ppa.launchpad.net/c2d4u.team/c2d4u4.0+/ubuntu bionic/main Sources [1,831 kB]\n",
            "Get:21 https://developer.download.nvidia.com/compute/cuda/repos/ubuntu1804/x86_64  Packages [951 kB]\n",
            "Get:22 http://ppa.launchpad.net/c2d4u.team/c2d4u4.0+/ubuntu bionic/main amd64 Packages [938 kB]\n",
            "Get:23 http://archive.ubuntu.com/ubuntu bionic-updates/multiverse amd64 Packages [29.8 kB]\n",
            "Get:24 http://archive.ubuntu.com/ubuntu bionic-updates/main amd64 Packages [3,132 kB]\n",
            "Get:25 http://archive.ubuntu.com/ubuntu bionic-updates/restricted amd64 Packages [918 kB]\n",
            "Get:26 http://archive.ubuntu.com/ubuntu bionic-updates/universe amd64 Packages [2,267 kB]\n",
            "Get:27 http://ppa.launchpad.net/deadsnakes/ppa/ubuntu bionic/main amd64 Packages [45.3 kB]\n",
            "Get:28 http://archive.ubuntu.com/ubuntu bionic-backports/universe amd64 Packages [12.9 kB]\n",
            "Get:29 http://archive.ubuntu.com/ubuntu bionic-backports/main amd64 Packages [12.2 kB]\n",
            "Get:30 http://ppa.launchpad.net/graphics-drivers/ppa/ubuntu bionic/main amd64 Packages [44.3 kB]\n",
            "Fetched 15.6 MB in 4s (3,529 kB/s)\n",
            "Reading package lists... Done\n",
            "--2022-04-05 12:50:42--  https://jdbc.postgresql.org/download/postgresql-42.2.16.jar\n",
            "Resolving jdbc.postgresql.org (jdbc.postgresql.org)... 72.32.157.228, 2001:4800:3e1:1::228\n",
            "Connecting to jdbc.postgresql.org (jdbc.postgresql.org)|72.32.157.228|:443... connected.\n",
            "HTTP request sent, awaiting response... 200 OK\n",
            "Length: 1002883 (979K) [application/java-archive]\n",
            "Saving to: ‘postgresql-42.2.16.jar’\n",
            "\n",
            "postgresql-42.2.16. 100%[===================>] 979.38K  5.47MB/s    in 0.2s    \n",
            "\n",
            "2022-04-05 12:50:43 (5.47 MB/s) - ‘postgresql-42.2.16.jar’ saved [1002883/1002883]\n",
            "\n"
          ]
        }
      ],
      "source": [
        "import os\n",
        "import pandas as pd\n",
        "# Find the latest version of spark 3.0  from http://www.apache.org/dist/spark/ and enter as the spark version\n",
        "# For example:\n",
        "# spark_version = 'spark-3.0.3'\n",
        "spark_version = 'spark-3.0.3'\n",
        "os.environ['SPARK_VERSION']=spark_version\n",
        "\n",
        "# Install Spark and Java\n",
        "!apt-get update\n",
        "!apt-get install openjdk-11-jdk-headless -qq > /dev/null\n",
        "!wget -q http://www.apache.org/dist/spark/$SPARK_VERSION/$SPARK_VERSION-bin-hadoop2.7.tgz\n",
        "!tar xf $SPARK_VERSION-bin-hadoop2.7.tgz\n",
        "!pip install -q findspark\n",
        "\n",
        "# Set Environment Variables\n",
        "import os\n",
        "os.environ[\"JAVA_HOME\"] = \"/usr/lib/jvm/java-11-openjdk-amd64\"\n",
        "os.environ[\"SPARK_HOME\"] = f\"/content/{spark_version}-bin-hadoop2.7\"\n",
        "\n",
        "# Start a SparkSession\n",
        "import findspark\n",
        "findspark.init()\n",
        "!wget https://jdbc.postgresql.org/download/postgresql-42.2.16.jar\n",
        "from pyspark.sql import SparkSession\n",
        "spark = SparkSession.builder.appName(\"M16-Amazon-Challenge\").config(\"spark.driver.extraClassPath\",\"/content/postgresql-42.2.16.jar\").getOrCreate()\n"
      ]
    },
    {
      "cell_type": "code",
      "source": [
        "#Download the Postgres driver that will allow Spark to interact with Postgres.\n",
        "!wget https://jdbc.postgresql.org/download/postgresql-42.2.16.jar"
      ],
      "metadata": {
        "colab": {
          "base_uri": "https://localhost:8080/"
        },
        "id": "_U1a5VvHsotN",
        "outputId": "8cbe5993-7e88-4c5d-e939-afd2f520d3cd"
      },
      "execution_count": 2,
      "outputs": [
        {
          "output_type": "stream",
          "name": "stdout",
          "text": [
            "--2022-04-05 12:50:49--  https://jdbc.postgresql.org/download/postgresql-42.2.16.jar\n",
            "Resolving jdbc.postgresql.org (jdbc.postgresql.org)... 72.32.157.228, 2001:4800:3e1:1::228\n",
            "Connecting to jdbc.postgresql.org (jdbc.postgresql.org)|72.32.157.228|:443... connected.\n",
            "HTTP request sent, awaiting response... 200 OK\n",
            "Length: 1002883 (979K) [application/java-archive]\n",
            "Saving to: ‘postgresql-42.2.16.jar.1’\n",
            "\n",
            "postgresql-42.2.16. 100%[===================>] 979.38K  5.82MB/s    in 0.2s    \n",
            "\n",
            "2022-04-05 12:50:50 (5.82 MB/s) - ‘postgresql-42.2.16.jar.1’ saved [1002883/1002883]\n",
            "\n"
          ]
        }
      ]
    },
    {
      "cell_type": "code",
      "source": [
        "from pyspark.sql import SparkSession\n",
        "spark = SparkSession.builder.appName(\"M16-Amazon-Challenge\").config(\"spark.driver.extraClassPath\",\"/content/postgresql-42.2.16.jar\").getOrCreate()"
      ],
      "metadata": {
        "id": "QcK4d7mYsq8y"
      },
      "execution_count": 3,
      "outputs": []
    },
    {
      "cell_type": "code",
      "source": [
        "from pyspark import SparkFiles\n",
        "url = \"https://s3.amazonaws.com/amazon-reviews-pds/tsv/amazon_reviews_us_Video_Games_v1_00.tsv.gz\"\n",
        "spark.sparkContext.addFile(url)\n",
        "df = spark.read.csv(SparkFiles.get(\"amazon_reviews_us_Video_Games_v1_00.tsv.gz\"), sep=\"\\t\", header=True, inferSchema=True)\n",
        "df.show()"
      ],
      "metadata": {
        "colab": {
          "base_uri": "https://localhost:8080/"
        },
        "id": "JP4yufjNst4B",
        "outputId": "f8faef5d-a658-4857-efbc-5fc48d416202"
      },
      "execution_count": 4,
      "outputs": [
        {
          "output_type": "stream",
          "name": "stdout",
          "text": [
            "+-----------+-----------+--------------+----------+--------------+--------------------+----------------+-----------+-------------+-----------+----+-----------------+--------------------+--------------------+-----------+\n",
            "|marketplace|customer_id|     review_id|product_id|product_parent|       product_title|product_category|star_rating|helpful_votes|total_votes|vine|verified_purchase|     review_headline|         review_body|review_date|\n",
            "+-----------+-----------+--------------+----------+--------------+--------------------+----------------+-----------+-------------+-----------+----+-----------------+--------------------+--------------------+-----------+\n",
            "|         US|   12039526| RTIS3L2M1F5SM|B001CXYMFS|     737716809|Thrustmaster T-Fl...|     Video Games|          5|            0|          0|   N|                Y|an amazing joysti...|Used this for Eli...| 2015-08-31|\n",
            "|         US|    9636577| R1ZV7R40OLHKD|B00M920ND6|     569686175|Tonsee 6 buttons ...|     Video Games|          5|            0|          0|   N|                Y|Definitely a sile...|Loved it,  I didn...| 2015-08-31|\n",
            "|         US|    2331478|R3BH071QLH8QMC|B0029CSOD2|      98937668|Hidden Mysteries:...|     Video Games|          1|            0|          1|   N|                Y|            One Star|poor quality work...| 2015-08-31|\n",
            "|         US|   52495923|R127K9NTSXA2YH|B00GOOSV98|      23143350|GelTabz Performan...|     Video Games|          3|            0|          0|   N|                Y|good, but could b...|nice, but tend to...| 2015-08-31|\n",
            "|         US|   14533949|R32ZWUXDJPW27Q|B00Y074JOM|     821342511|Zero Suit Samus a...|     Video Games|          4|            0|          0|   N|                Y|   Great but flawed.|Great amiibo, gre...| 2015-08-31|\n",
            "|         US|    2377552|R3AQQ4YUKJWBA6|B002UBI6W6|     328764615|Psyclone Recharge...|     Video Games|          1|            0|          0|   N|                Y|            One Star|The remote consta...| 2015-08-31|\n",
            "|         US|   17521011|R2F0POU5K6F73F|B008XHCLFO|      24234603|Protection for yo...|     Video Games|          5|            0|          0|   N|                Y|              A Must|I have a 2012-201...| 2015-08-31|\n",
            "|         US|   19676307|R3VNR804HYSMR6|B00BRA9R6A|     682267517|   Nerf 3DS XL Armor|     Video Games|          5|            0|          0|   N|                Y|          Five Stars|Perfect, kids lov...| 2015-08-31|\n",
            "|         US|     224068| R3GZTM72WA2QH|B009EPWJLA|     435241890|One Piece: Pirate...|     Video Games|          5|            0|          0|   N|                Y|          Five Stars|            Excelent| 2015-08-31|\n",
            "|         US|   48467989| RNQOY62705W1K|B0000AV7GB|     256572651|Playstation 2 Dan...|     Video Games|          4|            0|          0|   N|                Y|          Four Stars|Slippery but expe...| 2015-08-31|\n",
            "|         US|     106569|R1VTIA3JTYBY02|B00008KTNN|     384411423|Metal Arms: Glitc...|     Video Games|          5|            0|          0|   N|                N|          Five Stars|Love the game. Se...| 2015-08-31|\n",
            "|         US|   48269642|R29DOU8791QZL8|B000A3IA0Y|     472622859|72 Pin Connector ...|     Video Games|          1|            0|          0|   N|                Y| Game will get stuck|Does not fit prop...| 2015-08-31|\n",
            "|         US|   52738710|R15DUT1VIJ9RJZ|B0053BQN34|     577628462|uDraw Gametablet ...|     Video Games|          2|            0|          0|   N|                Y|We have tried it ...|This was way too ...| 2015-08-31|\n",
            "|         US|   10556786|R3IMF2MQ3OU9ZM|B002I0HIMI|     988218515|NBA 2K12(Covers M...|     Video Games|          4|            0|          0|   N|                Y|          Four Stars|Works great good ...| 2015-08-31|\n",
            "|         US|    2963837|R23H79DHOZTYAU|B0081EH12M|     770100932|New Trigger Grips...|     Video Games|          1|            1|          1|   N|                Y|Now i have to buy...|It did not fit th...| 2015-08-31|\n",
            "|         US|   23092109| RIV24EQAIXA4O|B005FMLZQQ|      24647669|Xbox 360 Media Re...|     Video Games|          5|            0|          0|   N|                Y|          Five Stars|perfect lightweig...| 2015-08-31|\n",
            "|         US|   23091728|R3UCNGYDVN24YB|B002BSA388|      33706205|Super Mario Galaxy 2|     Video Games|          5|            0|          0|   N|                Y|          Five Stars|               great| 2015-08-31|\n",
            "|         US|   10712640| RUL4H4XTTN2DY|B00BUSLSAC|     829667834|Nintendo 3DS XL -...|     Video Games|          5|            0|          0|   N|                Y|          Five Stars|Works beautifully...| 2015-08-31|\n",
            "|         US|   17455376|R20JF7Z4DHTNX5|B00KWF38AW|     110680188|Captain Toad:  Tr...|     Video Games|          5|            0|          0|   N|                Y|          Five Stars|Kids loved the ga...| 2015-08-31|\n",
            "|         US|   14754850|R2T1AJ5MFI2260|B00BRQJYA8|     616463426|Lego Batman 2: DC...|     Video Games|          4|            0|          0|   N|                Y|          Four Stars|           Goodngame| 2015-08-31|\n",
            "+-----------+-----------+--------------+----------+--------------+--------------------+----------------+-----------+-------------+-----------+----+-----------------+--------------------+--------------------+-----------+\n",
            "only showing top 20 rows\n",
            "\n"
          ]
        }
      ]
    },
    {
      "cell_type": "code",
      "source": [
        "# Create the vine_table. DataFrame\n",
        "vine_df = df.select([\"review_id\",\"product_title\", \"product_category\", \"star_rating\", \"helpful_votes\", \"total_votes\", \"vine\", \"verified_purchase\"])\n",
        "vine_df.show()"
      ],
      "metadata": {
        "colab": {
          "base_uri": "https://localhost:8080/"
        },
        "id": "rqaj9sH6s0wK",
        "outputId": "2ec7732f-1071-4110-9655-c7275d5ec3ad"
      },
      "execution_count": 8,
      "outputs": [
        {
          "output_type": "stream",
          "name": "stdout",
          "text": [
            "+--------------+--------------------+----------------+-----------+-------------+-----------+----+-----------------+\n",
            "|     review_id|       product_title|product_category|star_rating|helpful_votes|total_votes|vine|verified_purchase|\n",
            "+--------------+--------------------+----------------+-----------+-------------+-----------+----+-----------------+\n",
            "| RTIS3L2M1F5SM|Thrustmaster T-Fl...|     Video Games|          5|            0|          0|   N|                Y|\n",
            "| R1ZV7R40OLHKD|Tonsee 6 buttons ...|     Video Games|          5|            0|          0|   N|                Y|\n",
            "|R3BH071QLH8QMC|Hidden Mysteries:...|     Video Games|          1|            0|          1|   N|                Y|\n",
            "|R127K9NTSXA2YH|GelTabz Performan...|     Video Games|          3|            0|          0|   N|                Y|\n",
            "|R32ZWUXDJPW27Q|Zero Suit Samus a...|     Video Games|          4|            0|          0|   N|                Y|\n",
            "|R3AQQ4YUKJWBA6|Psyclone Recharge...|     Video Games|          1|            0|          0|   N|                Y|\n",
            "|R2F0POU5K6F73F|Protection for yo...|     Video Games|          5|            0|          0|   N|                Y|\n",
            "|R3VNR804HYSMR6|   Nerf 3DS XL Armor|     Video Games|          5|            0|          0|   N|                Y|\n",
            "| R3GZTM72WA2QH|One Piece: Pirate...|     Video Games|          5|            0|          0|   N|                Y|\n",
            "| RNQOY62705W1K|Playstation 2 Dan...|     Video Games|          4|            0|          0|   N|                Y|\n",
            "|R1VTIA3JTYBY02|Metal Arms: Glitc...|     Video Games|          5|            0|          0|   N|                N|\n",
            "|R29DOU8791QZL8|72 Pin Connector ...|     Video Games|          1|            0|          0|   N|                Y|\n",
            "|R15DUT1VIJ9RJZ|uDraw Gametablet ...|     Video Games|          2|            0|          0|   N|                Y|\n",
            "|R3IMF2MQ3OU9ZM|NBA 2K12(Covers M...|     Video Games|          4|            0|          0|   N|                Y|\n",
            "|R23H79DHOZTYAU|New Trigger Grips...|     Video Games|          1|            1|          1|   N|                Y|\n",
            "| RIV24EQAIXA4O|Xbox 360 Media Re...|     Video Games|          5|            0|          0|   N|                Y|\n",
            "|R3UCNGYDVN24YB|Super Mario Galaxy 2|     Video Games|          5|            0|          0|   N|                Y|\n",
            "| RUL4H4XTTN2DY|Nintendo 3DS XL -...|     Video Games|          5|            0|          0|   N|                Y|\n",
            "|R20JF7Z4DHTNX5|Captain Toad:  Tr...|     Video Games|          5|            0|          0|   N|                Y|\n",
            "|R2T1AJ5MFI2260|Lego Batman 2: DC...|     Video Games|          4|            0|          0|   N|                Y|\n",
            "+--------------+--------------------+----------------+-----------+-------------+-----------+----+-----------------+\n",
            "only showing top 20 rows\n",
            "\n"
          ]
        }
      ]
    },
    {
      "cell_type": "code",
      "source": [
        "# Filter the data to retrieve total_vote count > 20\n",
        "vine_df_total = vine_df.filter(\"total_votes>=20\")\n"
      ],
      "metadata": {
        "id": "6GrJRMUOs15W"
      },
      "execution_count": 9,
      "outputs": []
    },
    {
      "cell_type": "markdown",
      "source": [
        ""
      ],
      "metadata": {
        "id": "qM8T6Y4_zKNR"
      }
    },
    {
      "cell_type": "code",
      "source": [
        "# Filter the new dataFrame to retireve the rows where the number of helpful_botes/ total votes is greater thsn or equal to 50%\n",
        "all_vines = vine_df_total.filter(vine_df_total['helpful_votes'] / vine_df_total['total_votes'] >.5)\n",
        "all_vines.show()\n"
      ],
      "metadata": {
        "colab": {
          "base_uri": "https://localhost:8080/"
        },
        "id": "L96-zC6hmLJf",
        "outputId": "ba44d72a-22cd-43c9-8fdd-9a53fbbfd7dd"
      },
      "execution_count": 12,
      "outputs": [
        {
          "output_type": "stream",
          "name": "stdout",
          "text": [
            "+--------------+--------------------+----------------+-----------+-------------+-----------+----+-----------------+\n",
            "|     review_id|       product_title|product_category|star_rating|helpful_votes|total_votes|vine|verified_purchase|\n",
            "+--------------+--------------------+----------------+-----------+-------------+-----------+----+-----------------+\n",
            "| R4PKAZRQJJX14|Valve - DOTA 2 St...|     Video Games|          1|           21|         34|   N|                N|\n",
            "|R2CI0Y288CC7E2|ONE PIECE Pirate ...|     Video Games|          1|           21|         35|   N|                Y|\n",
            "|R127WEQY2FM1T3|       Madden NFL 16|     Video Games|          1|          147|        175|   N|                Y|\n",
            "|R2FJ94555FZH32|Infinity 3.0 Star...|     Video Games|          2|           55|         60|   N|                N|\n",
            "|R1U3AR67RE273L|       Madden NFL 16|     Video Games|          1|           51|         65|   N|                Y|\n",
            "|R3PZOXA5X1U8KW|Infinity 3.0 Star...|     Video Games|          4|           31|         36|   N|                N|\n",
            "| R6KTC1OPIOIIG|Xbox One 500GB Co...|     Video Games|          2|           19|         34|   N|                Y|\n",
            "|R36O341WWXXKNP|Disney Infinity 3...|     Video Games|          5|           28|         31|   N|                N|\n",
            "|R10LZVBLQHBVJ0|Microsoft Xbox On...|     Video Games|          2|          151|        198|   N|                N|\n",
            "|R1VR5GLGY1GE7N|SmaAcc Cooling Fa...|     Video Games|          1|           49|         51|   N|                Y|\n",
            "|R2OWDAR0EDEPTF|       Madden NFL 16|     Video Games|          1|           23|         28|   N|                N|\n",
            "|R29BOS5HMAY1LO|Madden NFL 16 - P...|     Video Games|          5|           88|        110|   N|                N|\n",
            "| R8WD0136CETA7|       Madden NFL 16|     Video Games|          2|           99|        119|   N|                N|\n",
            "|R16621F16PQN5A|       Madden NFL 16|     Video Games|          3|           24|         31|   N|                Y|\n",
            "|R1LXBPG1M9DDOC|     Google Play $10|     Video Games|          1|          102|        106|   N|                N|\n",
            "| RNEMGSUKJ4535|       Madden NFL 16|     Video Games|          2|           21|         25|   N|                Y|\n",
            "|R3R2UKBFKP1IQ4|       Madden NFL 16|     Video Games|          1|           19|         23|   N|                Y|\n",
            "|R2T90XM5G2DBZA|       Madden NFL 16|     Video Games|          3|           15|         22|   N|                Y|\n",
            "| R5ZMK0Y0KRBRZ|       Madden NFL 16|     Video Games|          1|           79|         91|   N|                N|\n",
            "|R12E2W0XOV3I2S|Madden NFL 16 - P...|     Video Games|          1|           24|         30|   N|                Y|\n",
            "+--------------+--------------------+----------------+-----------+-------------+-----------+----+-----------------+\n",
            "only showing top 20 rows\n",
            "\n"
          ]
        }
      ]
    },
    {
      "cell_type": "code",
      "source": [
        "new_vines = all_vines.filter(all_vines['vine'] == 'Y')\n",
        "new_vines.show(5)"
      ],
      "metadata": {
        "colab": {
          "base_uri": "https://localhost:8080/"
        },
        "id": "-bZP3I9Qys3M",
        "outputId": "3a2fba11-aa4a-4060-90be-6f180e5b5bfa"
      },
      "execution_count": 17,
      "outputs": [
        {
          "output_type": "stream",
          "name": "stdout",
          "text": [
            "+--------------+--------------------+----------------+-----------+-------------+-----------+----+-----------------+\n",
            "|     review_id|       product_title|product_category|star_rating|helpful_votes|total_votes|vine|verified_purchase|\n",
            "+--------------+--------------------+----------------+-----------+-------------+-----------+----+-----------------+\n",
            "|R3KKUSGFZWSUIY|Turtle Beach - Ea...|     Video Games|          5|           56|         63|   Y|                N|\n",
            "|R10FO5UKKVZBK2|PDP AG7 True Wire...|     Video Games|          3|           23|         23|   Y|                N|\n",
            "| RM4KSGEOR7MU1|Turtle Beach - Ea...|     Video Games|          5|           19|         24|   Y|                N|\n",
            "| RG7VRMYLEXD23|Antec X-1 Cooler ...|     Video Games|          4|           22|         26|   Y|                N|\n",
            "|R11O4YSCPSNL6L|Turtle Beach - Ea...|     Video Games|          3|           20|         26|   Y|                N|\n",
            "+--------------+--------------------+----------------+-----------+-------------+-----------+----+-----------------+\n",
            "only showing top 5 rows\n",
            "\n"
          ]
        }
      ]
    },
    {
      "cell_type": "code",
      "source": [
        "no_vine = all_vines.filter(all_vines['vine'] == 'N')\n",
        "no_vine.show(5)"
      ],
      "metadata": {
        "colab": {
          "base_uri": "https://localhost:8080/"
        },
        "id": "egSoP1qo0Cbn",
        "outputId": "f659dc46-c523-4fdd-8f45-0bcd6348f694"
      },
      "execution_count": 18,
      "outputs": [
        {
          "output_type": "stream",
          "name": "stdout",
          "text": [
            "+--------------+--------------------+----------------+-----------+-------------+-----------+----+-----------------+\n",
            "|     review_id|       product_title|product_category|star_rating|helpful_votes|total_votes|vine|verified_purchase|\n",
            "+--------------+--------------------+----------------+-----------+-------------+-----------+----+-----------------+\n",
            "| R4PKAZRQJJX14|Valve - DOTA 2 St...|     Video Games|          1|           21|         34|   N|                N|\n",
            "|R2CI0Y288CC7E2|ONE PIECE Pirate ...|     Video Games|          1|           21|         35|   N|                Y|\n",
            "|R127WEQY2FM1T3|       Madden NFL 16|     Video Games|          1|          147|        175|   N|                Y|\n",
            "|R2FJ94555FZH32|Infinity 3.0 Star...|     Video Games|          2|           55|         60|   N|                N|\n",
            "|R1U3AR67RE273L|       Madden NFL 16|     Video Games|          1|           51|         65|   N|                Y|\n",
            "+--------------+--------------------+----------------+-----------+-------------+-----------+----+-----------------+\n",
            "only showing top 5 rows\n",
            "\n"
          ]
        }
      ]
    },
    {
      "cell_type": "code",
      "source": [
        "# Determine the total number of reviews\n",
        "total_reviews = vine_df.count()\n",
        "total_reviews\n"
      ],
      "metadata": {
        "colab": {
          "base_uri": "https://localhost:8080/"
        },
        "id": "Eg6uamfA0Q0w",
        "outputId": "d89242d7-5162-4fc7-dc43-6da208e9c2f6"
      },
      "execution_count": 28,
      "outputs": [
        {
          "output_type": "execute_result",
          "data": {
            "text/plain": [
              "1785997"
            ]
          },
          "metadata": {},
          "execution_count": 28
        }
      ]
    },
    {
      "cell_type": "code",
      "source": [
        "# Filtered the dats set for only 5 star reviews\n",
        "star_reviews = vine_df.filter(vine_df['star_rating'] == 5)\n",
        "star_reviews.show()"
      ],
      "metadata": {
        "colab": {
          "base_uri": "https://localhost:8080/"
        },
        "id": "duTh5vhN2nYz",
        "outputId": "bb016d9a-87d3-415f-daa3-79c0c8c56573"
      },
      "execution_count": 32,
      "outputs": [
        {
          "output_type": "stream",
          "name": "stdout",
          "text": [
            "+--------------+--------------------+----------------+-----------+-------------+-----------+----+-----------------+\n",
            "|     review_id|       product_title|product_category|star_rating|helpful_votes|total_votes|vine|verified_purchase|\n",
            "+--------------+--------------------+----------------+-----------+-------------+-----------+----+-----------------+\n",
            "| RTIS3L2M1F5SM|Thrustmaster T-Fl...|     Video Games|          5|            0|          0|   N|                Y|\n",
            "| R1ZV7R40OLHKD|Tonsee 6 buttons ...|     Video Games|          5|            0|          0|   N|                Y|\n",
            "|R2F0POU5K6F73F|Protection for yo...|     Video Games|          5|            0|          0|   N|                Y|\n",
            "|R3VNR804HYSMR6|   Nerf 3DS XL Armor|     Video Games|          5|            0|          0|   N|                Y|\n",
            "| R3GZTM72WA2QH|One Piece: Pirate...|     Video Games|          5|            0|          0|   N|                Y|\n",
            "|R1VTIA3JTYBY02|Metal Arms: Glitc...|     Video Games|          5|            0|          0|   N|                N|\n",
            "| RIV24EQAIXA4O|Xbox 360 Media Re...|     Video Games|          5|            0|          0|   N|                Y|\n",
            "|R3UCNGYDVN24YB|Super Mario Galaxy 2|     Video Games|          5|            0|          0|   N|                Y|\n",
            "| RUL4H4XTTN2DY|Nintendo 3DS XL -...|     Video Games|          5|            0|          0|   N|                Y|\n",
            "|R20JF7Z4DHTNX5|Captain Toad:  Tr...|     Video Games|          5|            0|          0|   N|                Y|\n",
            "|R2E5BQMWTW9JUQ|Component HDTV AV...|     Video Games|          5|            0|          0|   N|                Y|\n",
            "|R1UC7WJRQQKU5V|Wireless Stereo H...|     Video Games|          5|            0|          0|   N|                Y|\n",
            "|R3V0YK55IDIW3T|      Kingdom Hearts|     Video Games|          5|            0|          0|   N|                Y|\n",
            "|R14Z48EC6DKJX9|           Shadowrun|     Video Games|          5|            0|          0|   N|                Y|\n",
            "|R3AACSKX1EAHUY|Fallout 3: Game o...|     Video Games|          5|            1|          1|   N|                Y|\n",
            "|R3D8ELWH0671OJ|            Gameband|     Video Games|          5|            3|          7|   N|                Y|\n",
            "|R3IU97WRKS5SLN|           Halo Wars|     Video Games|          5|            0|          0|   N|                Y|\n",
            "| RJOF64DZUKQ3D|Kingdom Hearts 3D...|     Video Games|          5|            0|          0|   N|                Y|\n",
            "|R3GXKE92MJBBSL|Sony PlayStation ...|     Video Games|          5|            0|          0|   N|                Y|\n",
            "|R3EKZ2GTIPQ3ZL|    NBA Street Vol 2|     Video Games|          5|            0|          1|   N|                Y|\n",
            "+--------------+--------------------+----------------+-----------+-------------+-----------+----+-----------------+\n",
            "only showing top 20 rows\n",
            "\n"
          ]
        }
      ]
    },
    {
      "cell_type": "code",
      "source": [
        "# Get the total number of 5 star reviews\n",
        "total_number_reviews = star_reviews.count()\n"
      ],
      "metadata": {
        "id": "8V6cMyp92_8T"
      },
      "execution_count": 39,
      "outputs": []
    },
    {
      "cell_type": "code",
      "source": [
        "# Get the verified and unverified purchases\n",
        "verified_purchase = star_reviews.filter(star_reviews['vine'] == 'Y')\n",
        "non_verified_purchase = star_reviews.filter(star_reviews['vine'] == 'N')\n"
      ],
      "metadata": {
        "id": "OP0Q5eqn5E5E"
      },
      "execution_count": 56,
      "outputs": []
    },
    {
      "cell_type": "code",
      "source": [
        "verified_purchase.count()\n"
      ],
      "metadata": {
        "colab": {
          "base_uri": "https://localhost:8080/"
        },
        "id": "imrtAahH51lz",
        "outputId": "b480bfc7-7caf-47bd-8a1e-0531f040faf8"
      },
      "execution_count": 57,
      "outputs": [
        {
          "output_type": "execute_result",
          "data": {
            "text/plain": [
              "729076"
            ]
          },
          "metadata": {},
          "execution_count": 57
        }
      ]
    },
    {
      "cell_type": "code",
      "source": [
        "non_verified_purchase.count()"
      ],
      "metadata": {
        "colab": {
          "base_uri": "https://localhost:8080/"
        },
        "id": "InihSvNA7V9g",
        "outputId": "0c7de9a7-7c73-4080-ab5c-3576bb08126b"
      },
      "execution_count": 58,
      "outputs": [
        {
          "output_type": "execute_result",
          "data": {
            "text/plain": [
              "297848"
            ]
          },
          "metadata": {},
          "execution_count": 58
        }
      ]
    },
    {
      "cell_type": "code",
      "source": [
        "star_reviews.count()"
      ],
      "metadata": {
        "colab": {
          "base_uri": "https://localhost:8080/"
        },
        "id": "h8lIJENH7czN",
        "outputId": "63473592-f666-4d18-f489-70e203c4210d"
      },
      "execution_count": 59,
      "outputs": [
        {
          "output_type": "execute_result",
          "data": {
            "text/plain": [
              "1026924"
            ]
          },
          "metadata": {},
          "execution_count": 59
        }
      ]
    },
    {
      "cell_type": "code",
      "source": [
        "# Get the percent of purchased reviews\n",
        "verified_purchase.count() / star_reviews.count()"
      ],
      "metadata": {
        "colab": {
          "base_uri": "https://localhost:8080/"
        },
        "id": "DXKom4Q57lCz",
        "outputId": "91512b9a-eae7-4a31-d3bd-6e6e29b40586"
      },
      "execution_count": 60,
      "outputs": [
        {
          "output_type": "execute_result",
          "data": {
            "text/plain": [
              "0.7099610097728751"
            ]
          },
          "metadata": {},
          "execution_count": 60
        }
      ]
    },
    {
      "cell_type": "code",
      "source": [
        "# Get the percentage of non-purchasewd reviews\n",
        "non_verified_purchase.count() / star_reviews.count()"
      ],
      "metadata": {
        "colab": {
          "base_uri": "https://localhost:8080/"
        },
        "id": "oL5Vu8Ca9rE2",
        "outputId": "f3f36b14-fdba-46a8-e2ad-082dc581c0f8"
      },
      "execution_count": 61,
      "outputs": [
        {
          "output_type": "execute_result",
          "data": {
            "text/plain": [
              "0.29003899022712487"
            ]
          },
          "metadata": {},
          "execution_count": 61
        }
      ]
    }
  ]
}